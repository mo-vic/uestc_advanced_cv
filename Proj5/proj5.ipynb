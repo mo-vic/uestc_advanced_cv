{
 "metadata": {
  "language_info": {
   "codemirror_mode": {
    "name": "ipython",
    "version": 3
   },
   "file_extension": ".py",
   "mimetype": "text/x-python",
   "name": "python",
   "nbconvert_exporter": "python",
   "pygments_lexer": "ipython3",
   "version": "3.7.7"
  },
  "orig_nbformat": 2,
  "kernelspec": {
   "name": "python3",
   "display_name": "Python 3.7.7 64-bit ('pytorch': conda)",
   "metadata": {
    "interpreter": {
     "hash": "eb031bbce033fa812dcec88de62f5abea6a352f76cdf43a5d1f21e2ea96289b4"
    }
   }
  }
 },
 "nbformat": 4,
 "nbformat_minor": 2,
 "cells": [
  {
   "source": [
    "# Project V. Fish Detection with Deep Learning\n",
    "1. Split Train and Val dataset\n",
    "2. Train a detection model based on YOLOv3-tiny\n",
    "3. Evaluate your model\n",
    "4. Use your model to detect fish from images in data/samples"
   ],
   "cell_type": "markdown",
   "metadata": {}
  },
  {
   "source": [
    "## Setup\n",
    "Please install required packages and make sure the version are valid \n",
    "\n",
    "pip install -r requirements.txt"
   ],
   "cell_type": "markdown",
   "metadata": {}
  },
  {
   "cell_type": "code",
   "execution_count": null,
   "metadata": {},
   "outputs": [],
   "source": [
    "from __future__ import division\n",
    "\n",
    "from utils.logger import *\n",
    "from utils.utils import *\n",
    "from utils.datasets import *\n",
    "from utils.augmentations import *\n",
    "from utils.transforms import *\n",
    "from utils.parse_config import *\n",
    "from utils.test import evaluate\n",
    "from utils.loss import compute_loss\n",
    "from utils.models import *\n",
    "\n",
    "from terminaltables import AsciiTable\n",
    "from matplotlib.ticker import NullLocator\n",
    "\n",
    "import os\n",
    "import sys\n",
    "import time\n",
    "import datetime\n",
    "import argparse\n",
    "import tqdm\n",
    "\n",
    "import torch\n",
    "from torch.utils.data import DataLoader\n",
    "from torchvision import datasets\n",
    "from torchvision import transforms\n",
    "from torch.autograd import Variable\n",
    "import torch.optim as optim\n"
   ]
  },
  {
   "source": [
    "# Data Preprocess\n",
    "You should code this part first"
   ],
   "cell_type": "markdown",
   "metadata": {}
  },
  {
   "cell_type": "code",
   "execution_count": null,
   "metadata": {},
   "outputs": [],
   "source": [
    "#####################################################################################################\n",
    "#                                            Your Code                                              #\n",
    "#####################################################################################################\n",
    "# You should generate valid Train dataset and Val dataset.\n",
    "# Use data in data/custom/images and data/custom/labels to generate the path file train.txt and \n",
    "# val.txt in data/custom/\n",
    "# a qualified val dataset is smaller than the train dataset and \n",
    "# most time there are no overlapped data between two sets.\n",
    "\n",
    "\n",
    "\n",
    "\n",
    "\n",
    "\n",
    "\n",
    "\n",
    "#####################################################################################################\n",
    "#                                                End                                                #\n",
    "#####################################################################################################"
   ]
  },
  {
   "source": [
    "Make some config..."
   ],
   "cell_type": "markdown",
   "metadata": {}
  },
  {
   "cell_type": "code",
   "execution_count": null,
   "metadata": {},
   "outputs": [],
   "source": [
    "opt = {\n",
    "    \"epochs\": 50,\n",
    "    \"model_def\": \"config/yolov3-tiny.cfg\",\n",
    "    \"data_config\": \"config/custom.data\",\n",
    "    \"pretrained_weights\": \"\",\n",
    "    \"n_cpu\": 1,\n",
    "    \"img_size\": 416,\n",
    "    \"multiscale_training\": True,\n",
    "    \"detect_image_folder\": \"data/samples\"\n",
    "}\n",
    "device = torch.device(\"cuda\" if torch.cuda.is_available() else \"cpu\")\n",
    "os.makedirs(\"output\", exist_ok=True)\n",
    "os.makedirs(\"checkpoints\", exist_ok=True)    \n",
    "# Get data configuration    \n",
    "data_config = parse_data_config(opt[\"data_config\"])    \n",
    "train_path = data_config[\"train\"]    \n",
    "valid_path = data_config[\"valid\"]    \n",
    "class_names = load_classes(data_config[\"names\"])\n",
    "print(train_path)\n",
    "print(valid_path)\n",
    "print(class_names)"
   ]
  },
  {
   "source": [
    "use pytorch to generate our model and dataset"
   ],
   "cell_type": "markdown",
   "metadata": {}
  },
  {
   "cell_type": "code",
   "execution_count": null,
   "metadata": {},
   "outputs": [],
   "source": [
    "# Initiate model\n",
    "model = Darknet(opt[\"model_def\"]).to(device)\n",
    "model.apply(weights_init_normal)\n",
    "\n",
    "# If specified we start from checkpoint\n",
    "if opt[\"pretrained_weights\"] != \"\":\n",
    "    if opt[\"pretrained_weights\"].endswith(\".pth\"):\n",
    "         model.load_state_dict(torch.load(opt[\"pretrained_weights\"]))\n",
    "    else:\n",
    "         model.load_darknet_weights(opt[\"pretrained_weights\"])\n",
    "\n",
    "# Get dataloader\n",
    "dataset = ListDataset(train_path, multiscale=opt[\"multiscale_training\"], img_size=opt[\"img_size\"], transform=AUGMENTATION_TRANSFORMS)\n",
    "dataloader = torch.utils.data.DataLoader(\n",
    "    dataset,\n",
    "    batch_size= model.hyperparams['batch'] // model.hyperparams['subdivisions'],\n",
    "    shuffle=True,\n",
    "    # num_workers=opt[\"n_cpu\"],\n",
    "    pin_memory=True,\n",
    "    collate_fn=dataset.collate_fn,\n",
    ")\n",
    "\n",
    "if (model.hyperparams['optimizer'] in [None, \"adam\"]):\n",
    "    optimizer = torch.optim.Adam(\n",
    "        model.parameters(), \n",
    "        lr=model.hyperparams['learning_rate'],\n",
    "        weight_decay=model.hyperparams['decay'],\n",
    "        )\n",
    "elif (model.hyperparams['optimizer'] == \"sgd\"):\n",
    "    optimizer = torch.optim.SGD(\n",
    "        model.parameters(), \n",
    "        lr=model.hyperparams['learning_rate'],\n",
    "        weight_decay=model.hyperparams['decay'],\n",
    "        momentum=model.hyperparams['momentum'])\n",
    "else:\n",
    "    print(\"Unknown optimizer. Please choose between (adam, sgd).\")\n"
   ]
  },
  {
   "source": [
    "# Train your model!\n",
    "You are required to complete the DL project training steps (get data batch from dataloader, forward, compute the loss and backward)\n",
    "see more details in following comments."
   ],
   "cell_type": "markdown",
   "metadata": {}
  },
  {
   "cell_type": "code",
   "execution_count": null,
   "metadata": {
    "tags": []
   },
   "outputs": [],
   "source": [
    "for epoch in range(opt[\"epochs\"]):\n",
    "    print(\"\\n---- Training Model ----\")\n",
    "    model.train()\n",
    "    #####################################################################################################\n",
    "    #                                            Your Code                                              #\n",
    "    #####################################################################################################\n",
    "    # Your code need to execute forward and backward steps.\n",
    "    # Use 'enumerate' to get a batch[_, images, targets]\n",
    "    # some helpful function\n",
    "    # - outputs = model.__call__(imgs)(use it by model(imgs))\n",
    "    # - loss, _ = cumpte_loss(outputs, targets, model)\n",
    "    # - loss.backward() (backward step)\n",
    "    # - optimizer.step() (execute params updating)\n",
    "    # - optimizer.zero_grad() (reset gradients)\n",
    "    # if you want to see how loss changes in each mini-batch step:\n",
    "    # -eg print(f'Epoch:{epoch+1}, Step{step+1}/{len(dataloader)}, loss:{loss.item()}')\n",
    "    \n",
    "\n",
    "\n",
    "\n",
    "\n",
    "    #####################################################################################################\n",
    "    #                                                End                                                #\n",
    "    #####################################################################################################\n",
    "        \n"
   ]
  },
  {
   "source": [
    "# Evaluate and save current model"
   ],
   "cell_type": "markdown",
   "metadata": {}
  },
  {
   "cell_type": "code",
   "execution_count": null,
   "metadata": {},
   "outputs": [],
   "source": [
    "print(\"\\n---- Evaluating Model ----\")\n",
    "# Evaluate the model on the validation set\n",
    "metrics_output = evaluate(\n",
    "    model,\n",
    "    path=valid_path,\n",
    "    iou_thres=0.5,\n",
    "    conf_thres=0.1,\n",
    "    nms_thres=0.5,\n",
    "    img_size=opt[\"img_size\"],\n",
    "    batch_size=model.hyperparams['batch'] // model.hyperparams['subdivisions'],\n",
    ")\n",
    "\n",
    "if metrics_output is not None:\n",
    "    precision, recall, AP, f1, ap_class = metrics_output\n",
    "    evaluation_metrics = [\n",
    "                (\"validation/precision\", precision.mean()),\n",
    "                (\"validation/recall\", recall.mean()),\n",
    "                (\"validation/mAP\", AP.mean()),\n",
    "                (\"validation/f1\", f1.mean()),\n",
    "                ]\n",
    "    # Print class APs and mAP\n",
    "    ap_table = [[\"Index\", \"Class name\", \"AP\"]]\n",
    "    for i, c in enumerate(ap_class):\n",
    "        print(class_names, c)\n",
    "        ap_table += [[c, class_names[c], \"%.5f\" % AP[i]]]\n",
    "    print(AsciiTable(ap_table).table)\n",
    "    print(f\"---- mAP {AP.mean()}\")                \n",
    "else:\n",
    "    print( \"---- mAP not measured (no detections found by model)\")\n",
    "torch.save(model.state_dict(), f\"checkpoints/yolov3-tiny_ckpt_%d.pth\" % epoch)"
   ]
  },
  {
   "source": [
    "# Detect and visualize results"
   ],
   "cell_type": "markdown",
   "metadata": {}
  },
  {
   "cell_type": "code",
   "execution_count": null,
   "metadata": {},
   "outputs": [],
   "source": [
    "model.eval()  # Set in evaluation mode\n",
    "dataloader = DataLoader(\n",
    "        ImageFolder(opt[\"detect_image_folder\"], transform= \\\n",
    "            transforms.Compose([DEFAULT_TRANSFORMS, Resize(opt[\"img_size\"])])),\n",
    "        batch_size=1,\n",
    "        shuffle=False,\n",
    "    )\n",
    "Tensor = torch.cuda.FloatTensor if torch.cuda.is_available() else torch.FloatTensor\n",
    "imgs = []  # Stores image paths\n",
    "img_detections = []  # Stores detections for each image index\n",
    "print(\"\\nPerforming object detection:\")\n",
    "for batch_i, (img_paths, input_imgs) in enumerate(dataloader):\n",
    "    # Configure input\n",
    "    input_imgs = Variable(input_imgs.type(Tensor))\n",
    "    # Get detections\n",
    "    with torch.no_grad():\n",
    "        detections = model(input_imgs)\n",
    "        detections = non_max_suppression(detections, 0.2, 0.7)\n",
    "    imgs.extend(img_paths)\n",
    "    img_detections.extend(detections)\n",
    "# Bounding-box colors\n",
    "cmap = plt.get_cmap(\"tab20b\")\n",
    "colors = [cmap(i) for i in np.linspace(0, 1, 20)]\n",
    "print(\"\\nSaving images:\")\n",
    "# Iterate through images and save plot of detections\n",
    "for img_i, (path, detections) in enumerate(zip(imgs, img_detections)):\n",
    "    print(\"(%d) Image: '%s'\" % (img_i, path))\n",
    "    # Create plot\n",
    "    img = np.array(Image.open(path))\n",
    "    plt.figure()\n",
    "    fig, ax = plt.subplots(1)\n",
    "    ax.imshow(img)\n",
    "    # Draw bounding boxes and labels of detections\n",
    "    if detections is not None:\n",
    "        # Rescale boxes to original image\n",
    "        detections = detections.cpu()\n",
    "        detections = rescale_boxes(detections, opt[\"img_size\"], img.shape[:2])\n",
    "        unique_labels = detections[:, -1].cpu().unique()\n",
    "        n_cls_preds = len(unique_labels)\n",
    "        bbox_colors = random.sample(colors, n_cls_preds)\n",
    "        for x1, y1, x2, y2, cls_conf, cls_pred in detections:\n",
    "            print(\"\\t+ Label: %s, Conf: %.5f\" % (class_names[int(cls_pred)], cls_conf.item()))\n",
    "            box_w = x2 - x1\n",
    "            box_h = y2 - y1\n",
    "            color = bbox_colors[int(np.where(unique_labels == int(cls_pred))[0])]\n",
    "            # Create a Rectangle patch\n",
    "            bbox = patches.Rectangle((x1, y1), box_w, box_h, linewidth=2, edgecolor=color, facecolor=\"none\")\n",
    "            # Add the bbox to the plot\n",
    "            ax.add_patch(bbox)\n",
    "            # Add label\n",
    "            plt.text(\n",
    "                x1,\n",
    "                y1,\n",
    "                s=class_names[int(cls_pred)],\n",
    "                color=\"white\",\n",
    "                verticalalignment=\"top\",\n",
    "                bbox={\"color\": color, \"pad\": 0},\n",
    "            )\n",
    "    # Save generated image with detections\n",
    "    plt.axis(\"off\")\n",
    "    plt.gca().xaxis.set_major_locator(NullLocator())\n",
    "    plt.gca().yaxis.set_major_locator(NullLocator())\n",
    "    filename = os.path.basename(path).split(\".\")[0]\n",
    "    output_path = os.path.join(\"output\", f\"{filename}.jpg\")\n",
    "    plt.savefig(output_path, bbox_inches=\"tight\", pad_inches=0.0)\n",
    "    plt.close()"
   ]
  },
  {
   "cell_type": "code",
   "execution_count": null,
   "metadata": {},
   "outputs": [],
   "source": []
  }
 ]
}